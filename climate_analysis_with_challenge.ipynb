{
 "cells": [
  {
   "cell_type": "code",
   "execution_count": 2,
   "metadata": {},
   "outputs": [],
   "source": [
    "%matplotlib inline\n",
    "from matplotlib import style\n",
    "style.use('fivethirtyeight')\n",
    "import matplotlib.pyplot as plt"
   ]
  },
  {
   "cell_type": "code",
   "execution_count": 3,
   "metadata": {},
   "outputs": [],
   "source": [
    "import numpy as np\n",
    "import pandas as pd"
   ]
  },
  {
   "cell_type": "code",
   "execution_count": 20,
   "metadata": {},
   "outputs": [],
   "source": [
    "import datetime as dt"
   ]
  },
  {
   "cell_type": "markdown",
   "metadata": {},
   "source": [
    "# Reflect Tables into SQLAlchemy ORM"
   ]
  },
  {
   "cell_type": "code",
   "execution_count": 5,
   "metadata": {},
   "outputs": [],
   "source": [
    "# Python SQL toolkit and Object Relational Mapper\n",
    "import sqlalchemy\n",
    "from sqlalchemy.ext.automap import automap_base\n",
    "from sqlalchemy.orm import Session\n",
    "from sqlalchemy import create_engine, func"
   ]
  },
  {
   "cell_type": "code",
   "execution_count": 6,
   "metadata": {},
   "outputs": [],
   "source": [
    "engine = create_engine(\"sqlite:///hawaii.sqlite\")"
   ]
  },
  {
   "cell_type": "code",
   "execution_count": 7,
   "metadata": {},
   "outputs": [],
   "source": [
    "# reflect an existing database into a new model\n",
    "Base = automap_base()\n",
    "# reflect the tables\n",
    "Base.prepare(engine, reflect=True)"
   ]
  },
  {
   "cell_type": "code",
   "execution_count": 8,
   "metadata": {},
   "outputs": [
    {
     "data": {
      "text/plain": [
       "['measurement', 'station']"
      ]
     },
     "execution_count": 8,
     "metadata": {},
     "output_type": "execute_result"
    }
   ],
   "source": [
    "# We can view all of the classes that automap found\n",
    "Base.classes.keys()"
   ]
  },
  {
   "cell_type": "code",
   "execution_count": 25,
   "metadata": {},
   "outputs": [],
   "source": [
    "# Save references to each table\n",
    "Measurement = Base.classes.measurement\n",
    "Station = Base.classes.station\n"
   ]
  },
  {
   "cell_type": "code",
   "execution_count": 10,
   "metadata": {},
   "outputs": [],
   "source": [
    "# Create our session (link) from Python to the DB\n",
    "session = Session(engine)"
   ]
  },
  {
   "cell_type": "markdown",
   "metadata": {},
   "source": [
    "# Exploratory Climate Analysis"
   ]
  },
  {
   "cell_type": "code",
   "execution_count": 33,
   "metadata": {},
   "outputs": [
    {
     "name": "stdout",
     "output_type": "stream",
     "text": [
      "                  date  precipitation\n",
      "date                                 \n",
      "2016-08-23  2016-08-23           0.00\n",
      "2016-08-24  2016-08-24           0.08\n",
      "2016-08-25  2016-08-25           0.08\n",
      "2016-08-26  2016-08-26           0.00\n",
      "2016-08-27  2016-08-27           0.00\n",
      "...                ...            ...\n",
      "2017-08-19  2017-08-19           0.09\n",
      "2017-08-20  2017-08-20            NaN\n",
      "2017-08-21  2017-08-21           0.56\n",
      "2017-08-22  2017-08-22           0.50\n",
      "2017-08-23  2017-08-23           0.45\n",
      "\n",
      "[2230 rows x 2 columns]\n"
     ]
    },
    {
     "data": {
      "text/plain": [
       "<matplotlib.axes._subplots.AxesSubplot at 0x1e504fdadc8>"
      ]
     },
     "execution_count": 33,
     "metadata": {},
     "output_type": "execute_result"
    },
    {
     "data": {
      "image/png": "[encoded data removed]",
      "text/plain": [
       "<Figure size 432x288 with 1 Axes>"
      ]
     },
     "metadata": {},
     "output_type": "display_data"
    }
   ],
   "source": [
    "# Design a query to retrieve the last 12 months of precipitation data and plot the results. \n",
    "#Starting from the last data point in the database. \n",
    "prev_year = dt.date(2017, 8, 23)\n",
    "# Calculate the date one year from the last date in data set.\n",
    "prev_year = dt.date(2017, 8, 23) - dt.timedelta(days=365)\n",
    "# Perform a query to retrieve the data and precipitation scores\n",
    "results = []\n",
    "results = session.query(Measurement.date, Measurement.prcp)\n",
    "results = session.query(Measurement.date, Measurement.prcp).filter(Measurement.date >= prev_year)\n",
    "results = session.query(Measurement.date, Measurement.prcp).filter(Measurement.date >= prev_year).all()\n",
    "# print(results)\n",
    "# Save the query results as a Pandas DataFrame and set the index to the date column\n",
    "df = pd.DataFrame(results, columns=['date','precipitation'])\n",
    "df.set_index(df['date'], inplace=True)\n",
    "print(df)\n",
    "# print(df.to_string(index=False))\n",
    "# Sort the dataframe by date\n",
    "df = df.sort_index()\n",
    "# print(df.to_string(index=False))\n",
    "# Use Pandas Plotting with Matplotlib to plot the data\n",
    "df.plot()"
   ]
  },
  {
   "cell_type": "code",
   "execution_count": 12,
   "metadata": {},
   "outputs": [
    {
     "data": {
      "text/html": [
       "<div>\n",
       "<style scoped>\n",
       "    .dataframe tbody tr th:only-of-type {\n",
       "        vertical-align: middle;\n",
       "    }\n",
       "\n",
       "    .dataframe tbody tr th {\n",
       "        vertical-align: top;\n",
       "    }\n",
       "\n",
       "    .dataframe thead th {\n",
       "        text-align: right;\n",
       "    }\n",
       "</style>\n",
       "<table border=\"1\" class=\"dataframe\">\n",
       "  <thead>\n",
       "    <tr style=\"text-align: right;\">\n",
       "      <th></th>\n",
       "      <th>precipitation</th>\n",
       "    </tr>\n",
       "  </thead>\n",
       "  <tbody>\n",
       "    <tr>\n",
       "      <th>count</th>\n",
       "      <td>2021.000000</td>\n",
       "    </tr>\n",
       "    <tr>\n",
       "      <th>mean</th>\n",
       "      <td>0.177279</td>\n",
       "    </tr>\n",
       "    <tr>\n",
       "      <th>std</th>\n",
       "      <td>0.461190</td>\n",
       "    </tr>\n",
       "    <tr>\n",
       "      <th>min</th>\n",
       "      <td>0.000000</td>\n",
       "    </tr>\n",
       "    <tr>\n",
       "      <th>25%</th>\n",
       "      <td>0.000000</td>\n",
       "    </tr>\n",
       "    <tr>\n",
       "      <th>50%</th>\n",
       "      <td>0.020000</td>\n",
       "    </tr>\n",
       "    <tr>\n",
       "      <th>75%</th>\n",
       "      <td>0.130000</td>\n",
       "    </tr>\n",
       "    <tr>\n",
       "      <th>max</th>\n",
       "      <td>6.700000</td>\n",
       "    </tr>\n",
       "  </tbody>\n",
       "</table>\n",
       "</div>"
      ],
      "text/plain": [
       "       precipitation\n",
       "count    2021.000000\n",
       "mean        0.177279\n",
       "std         0.461190\n",
       "min         0.000000\n",
       "25%         0.000000\n",
       "50%         0.020000\n",
       "75%         0.130000\n",
       "max         6.700000"
      ]
     },
     "execution_count": 12,
     "metadata": {},
     "output_type": "execute_result"
    }
   ],
   "source": [
    "# Use Pandas to calcualte the summary statistics for the precipitation data\n",
    "df.describe()"
   ]
  },
  {
   "cell_type": "code",
   "execution_count": 13,
   "metadata": {},
   "outputs": [
    {
     "data": {
      "text/plain": [
       "[(9)]"
      ]
     },
     "execution_count": 13,
     "metadata": {},
     "output_type": "execute_result"
    }
   ],
   "source": [
    "# How many stations are available in this dataset?\n",
    "session.query(func.count(Station.station)).all()"
   ]
  },
  {
   "cell_type": "code",
   "execution_count": 14,
   "metadata": {},
   "outputs": [
    {
     "data": {
      "text/plain": [
       "<sqlalchemy.orm.query.Query at 0x1e506825708>"
      ]
     },
     "execution_count": 14,
     "metadata": {},
     "output_type": "execute_result"
    }
   ],
   "source": [
    "# What are the most active stations?\n",
    "# List the stations and the counts in descending order.\n",
    "session.query(Measurement.station, func.count(Measurement.station))"
   ]
  },
  {
   "cell_type": "code",
   "execution_count": 15,
   "metadata": {},
   "outputs": [
    {
     "data": {
      "text/plain": [
       "[(54.0, 85.0, 71.66378066378067)]"
      ]
     },
     "execution_count": 15,
     "metadata": {},
     "output_type": "execute_result"
    }
   ],
   "source": [
    "# Using the station id from the previous query, calculate the lowest temperature recorded, \n",
    "# highest temperature recorded, and average temperature most active station?\n",
    "session.query(Measurement.station, func.count(Measurement.station)).\\\n",
    "group_by(Measurement.station).order_by(func.count(Measurement.station).desc()).all()\n",
    "session.query(func.min(Measurement.tobs), func.max(Measurement.tobs), func.avg(Measurement.tobs)).\\\n",
    "filter(Measurement.station == 'USC00519281').all()"
   ]
  },
  {
   "cell_type": "code",
   "execution_count": 16,
   "metadata": {},
   "outputs": [
    {
     "data": {
      "image/png": "[encoded data removed]",
      "text/plain": [
       "<Figure size 432x288 with 1 Axes>"
      ]
     },
     "metadata": {},
     "output_type": "display_data"
    }
   ],
   "source": [
    "# Choose the station with the highest number of temperature observations.\n",
    "# Query the last 12 months of temperature observation data for this station and plot the results as a histogram\n",
    "results = session.query(Measurement.tobs).\\\n",
    "filter(Measurement.station == 'USC00519281').\\\n",
    "filter(Measurement.date >= prev_year).all()\n",
    "# print(results)\n",
    "df = pd.DataFrame(results, columns=['tobs'])\n",
    "# print(df)\n",
    "\n",
    "df.plot.hist(bins=12)\n",
    "plt.tight_layout()"
   ]
  },
  {
   "cell_type": "code",
   "execution_count": null,
   "metadata": {},
   "outputs": [],
   "source": [
    "# Write a function called `calc_temps` that will accept start date and end date in the format '%Y-%m-%d' \n",
    "# and return the minimum, average, and maximum temperatures for that range of dates\n"
   ]
  },
  {
   "cell_type": "markdown",
   "metadata": {},
   "source": [
    "# Challenge"
   ]
  },
  {
   "cell_type": "code",
   "execution_count": null,
   "metadata": {},
   "outputs": [],
   "source": [
    "# Identify key statistical data in June across all of the stations and years using the describe() function.\n",
    "# Identify key statistical data in December across all stations and years using the describe() function.\n",
    "# Share your findings in the Jupyter Notebook with a few sentences describing the key differences in weather between June and December and 2-3 recommendations for further analysis."
   ]
  },
  {
   "cell_type": "code",
   "execution_count": 334,
   "metadata": {},
   "outputs": [
    {
     "name": "stdout",
     "output_type": "stream",
     "text": [
      "            day  month  year  precipitation\n",
      "date                                       \n",
      "2017-08-19   19      8  2017       0.030000\n",
      "2017-08-20   20      8  2017       0.005000\n",
      "2017-08-21   21      8  2017       0.193333\n",
      "2017-08-22   22      8  2017       0.166667\n",
      "2017-08-23   23      8  2017       0.132500\n",
      "            day  month  year  precipitation  rain_per_hun       bin\n",
      "date                                                               \n",
      "2015-04-07    7      4  2015       0.000000      0.000000       <10\n",
      "2012-12-01    1     12  2012       0.000000      0.000000       <10\n",
      "2010-09-26   26      9  2010       0.000000      0.000000       <10\n",
      "2012-12-03    3     12  2012       0.000000      0.000000       <10\n",
      "2012-12-07    7     12  2012       0.000000      0.000000       <10\n",
      "...         ...    ...   ...            ...           ...       ...\n",
      "2013-11-10   10     11  2013       3.867143    386.714286  100-1000\n",
      "2010-12-20   20     12  2010       3.931667    393.166667  100-1000\n",
      "2011-01-13   13      1  2011       4.794286    479.428571  100-1000\n",
      "2014-07-20   20      7  2014       5.344286    534.428571  100-1000\n",
      "2016-07-25   25      7  2016       5.970000    597.000000  100-1000\n",
      "\n",
      "[2792 rows x 6 columns]\n"
     ]
    },
    {
     "data": {
      "text/plain": [
       "{'whiskers': [<matplotlib.lines.Line2D at 0x1e5091fd188>,\n",
       "  <matplotlib.lines.Line2D at 0x1e5091fd148>],\n",
       " 'caps': [<matplotlib.lines.Line2D at 0x1e509229248>,\n",
       "  <matplotlib.lines.Line2D at 0x1e509229748>],\n",
       " 'boxes': [<matplotlib.lines.Line2D at 0x1e5091fd748>],\n",
       " 'medians': [<matplotlib.lines.Line2D at 0x1e50a6e2288>],\n",
       " 'fliers': [<matplotlib.lines.Line2D at 0x1e50a6e2908>],\n",
       " 'means': []}"
      ]
     },
     "execution_count": 334,
     "metadata": {},
     "output_type": "execute_result"
    },
    {
     "data": {
      "image/png": "[encoded data removed]",
      "text/plain": [
       "<Figure size 432x288 with 1 Axes>"
      ]
     },
     "metadata": {},
     "output_type": "display_data"
    },
    {
     "data": {
      "image/png": "[encoded data removed]",
      "text/plain": [
       "<Figure size 432x288 with 1 Axes>"
      ]
     },
     "metadata": {},
     "output_type": "display_data"
    }
   ],
   "source": [
    "# write a query to retrieve descriptive statistics for June, for every year and every station\n",
    "june_results = []\n",
    "dec_results = []\n",
    "df = []\n",
    "mo_results = session.query(Measurement.date, Measurement.prcp)\n",
    "\n",
    "df = pd.DataFrame(mo_results, columns=['date','precipitation'])\n",
    "df.dropna(inplace=True)\n",
    "\n",
    "# parse out the date into days, months, and years\n",
    "df['day'] = pd.DatetimeIndex(df['date']).day\n",
    "df['month'] = pd.DatetimeIndex(df['date']).month\n",
    "df['year'] = pd.DatetimeIndex(df['date']).year\n",
    "\n",
    "#calculate the mean rain per day (based on multiple station measures)\n",
    "# one observation per day\n",
    "daily_rain_df = df.groupby(['date'])[['date', 'day', 'month', 'year', 'precipitation']].mean() \n",
    "\n",
    "# summary statistics for all days in the query result\n",
    "print(daily_rain_df.tail()) \n",
    "daily_rain_df.describe()\n",
    "\n",
    "# classify rain amounts\n",
    "rain_bins = [0, 10, 100, 1000, 10000]\n",
    "amount_labels = ['<10', '10-100', '100-1000', '>1000']\n",
    "\n",
    "daily_rain_df = daily_rain_df.assign(rain_per_hun = lambda x: x.precipitation *100)\n",
    "daily_rain_df['bin'] = pd.cut(daily_rain_df['rain_per_hun'], \n",
    "                             bins=rain_bins, \n",
    "                             labels=amount_labels,\n",
    "                             precision=1,\n",
    "                             include_lowest=True)\n",
    "# sort by rain amount\n",
    "daily_rain_df.sort_values(by='rain_per_hun',inplace=True)\n",
    "\n",
    "# create a new column with rain in parts per hundred\n",
    "daily_rain_df = daily_rain_df.assign(rain_per_hun = lambda x: x.precipitation *100)\n",
    "print(daily_rain_df)\n",
    "\n",
    "# plot frequency\n",
    "daily_rain_df['precipitation'].plot.hist(bins=50)\n",
    "plt.tight_layout()\n",
    "\n",
    "fig1, ax1 = plt.subplots()\n",
    "ax1.set_title('Daily Rain, 2010-2017')\n",
    "ax1.boxplot(daily_rain_df['precipitation'])"
   ]
  },
  {
   "cell_type": "code",
   "execution_count": 335,
   "metadata": {},
   "outputs": [],
   "source": [
    "# make one dataframe per month for June and December data\n",
    "june_rain_df = daily_rain_df[daily_rain_df['month']==6]\n",
    "dec_rain_df = daily_rain_df[daily_rain_df['month']==12]"
   ]
  },
  {
   "cell_type": "code",
   "execution_count": 336,
   "metadata": {},
   "outputs": [
    {
     "name": "stdout",
     "output_type": "stream",
     "text": [
      "             day  month         year  precipitation  rain_per_hun\n",
      "count  240.00000  240.0   240.000000     240.000000    240.000000\n",
      "mean    15.50000    6.0  2013.500000       0.140569     14.056870\n",
      "std      8.67353    0.0     2.296076       0.198470     19.846977\n",
      "min      1.00000    6.0  2010.000000       0.000000      0.000000\n",
      "25%      8.00000    6.0  2011.750000       0.018854      1.885417\n",
      "50%     15.50000    6.0  2013.500000       0.079375      7.937500\n",
      "75%     23.00000    6.0  2015.250000       0.189167     18.916667\n",
      "max     30.00000    6.0  2017.000000       1.666667    166.666667\n",
      "              day  month         year  precipitation  rain_per_hun\n",
      "count  217.000000  217.0   217.000000     217.000000    217.000000\n",
      "mean    16.000000   12.0  2013.000000       0.215665     21.566540\n",
      "std      8.964952    0.0     2.004624       0.430695     43.069529\n",
      "min      1.000000   12.0  2010.000000       0.000000      0.000000\n",
      "25%      8.000000   12.0  2011.000000       0.016667      1.666667\n",
      "50%     16.000000   12.0  2013.000000       0.082500      8.250000\n",
      "75%     24.000000   12.0  2015.000000       0.205000     20.500000\n",
      "max     31.000000   12.0  2016.000000       3.931667    393.166667\n"
     ]
    }
   ],
   "source": [
    "# retrieve summary statistics\n",
    "print(june_rain_df.describe()) \n",
    "# print(dec_rain_df.tail())\n",
    "print(dec_rain_df.describe())  "
   ]
  },
  {
   "cell_type": "code",
   "execution_count": 339,
   "metadata": {},
   "outputs": [
    {
     "name": "stdout",
     "output_type": "stream",
     "text": [
      "[2010 2011 2012 2013 2014 2015 2016 2017]\n",
      "[2012 2013 2014 2010 2011 2016 2015]\n"
     ]
    }
   ],
   "source": [
    "# verify number of unique years in dataset\n",
    "print(june_rain_df['year'].unique())\n",
    "print(dec_rain_df['year'].unique())"
   ]
  },
  {
   "cell_type": "code",
   "execution_count": 341,
   "metadata": {},
   "outputs": [
    {
     "data": {
      "image/png": "[encoded data removed]",
      "text/plain": [
       "<Figure size 432x288 with 1 Axes>"
      ]
     },
     "metadata": {},
     "output_type": "display_data"
    }
   ],
   "source": [
    "# plot histogram\n",
    "dec_rain_df['precipitation'].plot.hist(bins=50)\n",
    "plt.tight_layout()\n",
    "# plot histograms\n",
    "june_rain_df['precipitation'].plot.hist(bins=50)\n",
    "plt.tight_layout()"
   ]
  },
  {
   "cell_type": "code",
   "execution_count": 346,
   "metadata": {
    "scrolled": false
   },
   "outputs": [
    {
     "data": {
      "text/plain": [
       "{'whiskers': [<matplotlib.lines.Line2D at 0x1e50a6737c8>,\n",
       "  <matplotlib.lines.Line2D at 0x1e50a673548>],\n",
       " 'caps': [<matplotlib.lines.Line2D at 0x1e50a6739c8>,\n",
       "  <matplotlib.lines.Line2D at 0x1e50a876c88>],\n",
       " 'boxes': [<matplotlib.lines.Line2D at 0x1e508d724c8>],\n",
       " 'medians': [<matplotlib.lines.Line2D at 0x1e50704dd48>],\n",
       " 'fliers': [<matplotlib.lines.Line2D at 0x1e50a654088>],\n",
       " 'means': []}"
      ]
     },
     "execution_count": 346,
     "metadata": {},
     "output_type": "execute_result"
    },
    {
     "data": {
      "image/png": "[encoded data removed]",
      "text/plain": [
       "<Figure size 432x288 with 1 Axes>"
      ]
     },
     "metadata": {},
     "output_type": "display_data"
    },
    {
     "data": {
      "image/png": "[encoded data removed]",
      "text/plain": [
       "<Figure size 432x288 with 1 Axes>"
      ]
     },
     "metadata": {},
     "output_type": "display_data"
    }
   ],
   "source": [
    "# boxplots\n",
    "fig1, ax1 = plt.subplots()\n",
    "ax1.set_title('Daily Rain in June, 2010-2017')\n",
    "ax1.set_ylim([0, 4.5])\n",
    "ax1.boxplot(june_rain_df['precipitation'])\n",
    "\n",
    "fig2, ax2 = plt.subplots()\n",
    "ax2.set_title('Daily Rain in December, 2010-2016')\n",
    "ax2.set_ylim([0, 4.5])\n",
    "ax2.boxplot(dec_rain_df['precipitation'])"
   ]
  },
  {
   "cell_type": "code",
   "execution_count": null,
   "metadata": {},
   "outputs": [],
   "source": [
    "# The key differences in precipitation between June (2010-2017) and December (2010-2016) are found in the mean and maximum daily amounts.  \n",
    "# The mean daily value is about 50% higher in December (mean=0.22 in) compared to June (mean=0.14 in).\n",
    "# More extreme daily values were observed in December (max=3.93 in) than in June (max=1.67 in).\n",
    "# Future analyses could include an analysis of: \n",
    "#         -variation across weather stations on the same day, to identify potential microclimates\n",
    "#         -remove June 2017 from the comparison analysis, so that the two samples are equal in size\n",
    "#         -compare the number of days without any precipitation\n",
    "        "
   ]
  },
  {
   "cell_type": "code",
   "execution_count": null,
   "metadata": {},
   "outputs": [],
   "source": []
  },
  {
   "cell_type": "code",
   "execution_count": null,
   "metadata": {},
   "outputs": [],
   "source": []
  },
  {
   "cell_type": "code",
   "execution_count": null,
   "metadata": {},
   "outputs": [],
   "source": []
  },
  {
   "cell_type": "code",
   "execution_count": null,
   "metadata": {},
   "outputs": [],
   "source": []
  }
 ],
 "metadata": {
  "kernelspec": {
   "display_name": "Python 3",
   "language": "python",
   "name": "python3"
  },
  "language_info": {
   "codemirror_mode": {
    "name": "ipython",
    "version": 3
   },
   "file_extension": ".py",
   "mimetype": "text/x-python",
   "name": "python",
   "nbconvert_exporter": "python",
   "pygments_lexer": "ipython3",
   "version": "3.7.6"
  }
 },
 "nbformat": 4,
 "nbformat_minor": 2
}
